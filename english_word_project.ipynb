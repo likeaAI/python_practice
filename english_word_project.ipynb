{
 "cells": [
  {
   "cell_type": "code",
   "execution_count": 1,
   "id": "8048464f",
   "metadata": {},
   "outputs": [],
   "source": [
    "from nltk.tokenize import word_tokenize\n",
    "from nltk.tag import pos_tag\n",
    "from nltk.corpus import stopwords\n",
    "import re \n",
    "\n",
    "from selenium.webdriver.common.keys import Keys\n",
    "from selenium import webdriver\n",
    "from selenium.webdriver.common.by import By\n",
    "import time as time\n",
    "import csv\n"
   ]
  },
  {
   "cell_type": "code",
   "execution_count": 76,
   "id": "ae64b775",
   "metadata": {},
   "outputs": [],
   "source": [
    "# 이미 알고있는단어도 제외시킨다. \n",
    "study_word = ['apple' , 'and' , 'is' , 'with' , 'data' , 'type' , 'as' , 'an' , 'Python' ,'easily' , 'new',\n",
    "             'languages' , 'languages' , 'I' ,'i' ,'I', 'thanked', 'pleased', 'receiving', 'thanks', 'So', 'got', 'understand', 'I', 'bit', 'What', 'heard', 'two', 'days', 'ago', 'different', \n",
    "              'yesterday', 'heard', 'Turkey', 'open', 'membership', 'turned', 'back', 'let', 'say', 'negative', 'side' ,\n",
    "             'think', 'need', 'clear', 'answer', 'prepared', 'President', 'Erdogan', 'problems', 'raised', 'Erdogan', 'said', 'Friday', 'looking', 'joining', 'NATO', 'positively', 'counties', 'housing', 'terrorist',\n",
    "             'More', 'strict', 'rules', 'applied', 'numerical', 'groups', 'references', 'group', 'names', 'regular', 'expressions', 'Only', 'ASCII', 'digits', 'numerical', 'reference', 'group', 'name', 'bytes','contain', 'ASCII', 'letters', 'digits',\n",
    "             'tech','Two', 'lobbying', 'representing', 'Court', 'step', 'block', 'Texas', 'law', 'lets', 'state', 'large', 'social', 'media', 'platforms', 'law', 'take', 'effect',\n",
    "             'Computer', 'Communications', 'Industry', 'NetChoice', 'filed', 'application', 'emergency', 'stay', 'Supreme', 'Justice', 'Samuel', 'Alito', 'asking', 'HB','taking', 'makes', 'way', 'lower', 'courts', 'Alito', 'either', 'decide', 'refer' ,'full',\n",
    "             'blocked', 'last', 'year', 'Wednesday', 'illegal', 'platform', 'million', 'US', 'monthly', 'users', 'ban', 'remove', 'deplatform', 'demonetize', 'de', 'deny', 'equal', 'access', 'expression', 'As', 'result', 'also', 'creates', 'uncertainty', 'companies', 'Facebook', 'Twitter', 'YouTube', 'function' ,'us',\n",
    "             'appeal'] "
   ]
  },
  {
   "cell_type": "code",
   "execution_count": 72,
   "id": "843bb355",
   "metadata": {},
   "outputs": [],
   "source": [
    "## stop_words 불용어\n",
    "stop_words_re = ['i', 'me', 'my', 'myself', 'we', 'our', 'ours', 'ourselves', 'you', \n",
    "                 \"you're\", \"you've\", \"you'll\", \"you'd\", 'your', 'yours', 'yourself', \n",
    "                 'yourselves', 'he', 'him', 'his', 'himself', 'she', \"she's\", 'her', \n",
    "                 'hers', 'herself', 'it', \"it's\", 'its', 'itself', 'they', 'them', 'their', \n",
    "                 'theirs', 'themselves', 'what', 'which', 'who', 'whom', 'this', 'that', \n",
    "                 \"that'll\", 'these', 'those', 'am', 'is', 'are', 'was', 'were', 'be', 'been', \n",
    "                 'being', 'have', 'has', 'had', 'having', 'do', 'does', 'did', 'doing', 'a', 'an', \n",
    "                 'the', 'and', 'but', 'if', 'or', 'because', 'as', 'until', 'while', 'of', 'at', 'by', \n",
    "                 'for', 'with', 'about', 'against', 'between', 'into', 'through', 'during', 'before', \n",
    "                 'after', 'above', 'below', 'to', 'from', 'up', 'down', 'in', 'out', 'on', 'off', 'over', \n",
    "                 'under', 'again', 'further', 'then', 'once', 'here', 'there', 'when', 'where', 'why', \n",
    "                 'how', 'all', 'any', 'both', 'each', 'few', 'more', 'most', 'other', 'some', 'such', \n",
    "                 'no', 'nor', 'not', 'only', 'own', 'same', 'so', 'than', 'too', 'very', 's', 't', \n",
    "                 'can', 'will', 'just', 'don', \"don't\", 'should', \"should've\", 'now', 'd', 'll', 'm', 'o', \n",
    "                 're', 've', 'y', 'ain', 'aren', \"aren't\", 'couldn', \"couldn't\", 'didn', \"didn't\", 'doesn',\n",
    "                 \"doesn't\", 'hadn', \"hadn't\", 'hasn', \"hasn't\", 'haven', \"haven't\", 'isn', \"isn't\", 'ma', \n",
    "                 'mightn', \"mightn't\", 'mustn', \"mustn't\", 'needn', \"needn't\", 'shan', \"shan't\", 'shouldn',\n",
    "                 \"shouldn't\", 'wasn', \"wasn't\", 'weren', \"weren't\", 'won', \"won't\", 'wouldn', \"wouldn't\", \n",
    "                 'The', 'C' , 'it' ,'IT' ,'It'] + study_word"
   ]
  },
  {
   "cell_type": "code",
   "execution_count": 67,
   "id": "b9f3e353",
   "metadata": {},
   "outputs": [
    {
     "name": "stdout",
     "output_type": "stream",
     "text": [
      "영어문장 입력하세요 :  Texas's law, which was blocked last year but reinstated by the Fifth Circuit Court of Appeals on Wednesday, makes it illegal for any social media platform with 50 million or more US monthly users to \"block, ban, remove, deplatform, demonetize, de-boost, restrict, deny equal access or visibility to, or otherwise discriminate against expression.\" As a result, it also creates enormous uncertainty about how social media companies such as Facebook, Twitter and YouTube will function in the state.\n"
     ]
    }
   ],
   "source": [
    "text01 = str(input('영어문장 입력하세요 :  '))"
   ]
  },
  {
   "cell_type": "code",
   "execution_count": 77,
   "id": "65c0a859",
   "metadata": {},
   "outputs": [],
   "source": [
    "# 전처리 영어만 제외하고 모두 날리기 \n",
    "text01 = re.sub('[^a-zA-Z]' ,' ',text01)\n"
   ]
  },
  {
   "cell_type": "code",
   "execution_count": 78,
   "id": "5f4a85d2",
   "metadata": {},
   "outputs": [],
   "source": [
    "token_words = word_tokenize(text01)\n"
   ]
  },
  {
   "cell_type": "code",
   "execution_count": 79,
   "id": "6d6e6752",
   "metadata": {},
   "outputs": [
    {
     "name": "stdout",
     "output_type": "stream",
     "text": [
      "['reinstated', 'Fifth', 'Circuit', 'Appeals', 'boost', 'restrict', 'visibility', 'otherwise', 'discriminate', 'enormous']\n"
     ]
    }
   ],
   "source": [
    "text_word = [word for word in token_words if not word in stop_words_re]     \n",
    "print(text_word)"
   ]
  },
  {
   "cell_type": "code",
   "execution_count": 82,
   "id": "056b2a5f",
   "metadata": {
    "scrolled": false
   },
   "outputs": [
    {
     "name": "stderr",
     "output_type": "stream",
     "text": [
      "C:\\Users\\crid2\\AppData\\Local\\Temp\\ipykernel_5740\\1009270196.py:4: DeprecationWarning: executable_path has been deprecated, please pass in a Service object\n",
      "  driver = webdriver.Chrome(path)\n"
     ]
    },
    {
     "name": "stdout",
     "output_type": "stream",
     "text": [
      "reinstate\n",
      "( 과거형: reinstated ) ( 과거 분사: reinstated )\n",
      "1.\n",
      "동사 (직장·직책 등에로) 복귀시키다\n",
      "2.\n",
      "동사 (원위치·상태로) 회복시키다 (=restore)\n",
      "미국∙영국 [ ˌriːɪnˈsteɪt ]\n",
      "All\n",
      "3\n",
      "옥스퍼드 영한사전\n",
      "====================================================================================================\n",
      "\n",
      "Fifth\n",
      "음료 병의 용량\n",
      "All\n",
      "와인&커피 용어해설\n",
      "====================================================================================================\n",
      "\n",
      "circuit\n",
      "어휘등급\n",
      "1.\n",
      "명사 순환(로), 순회 (노선)\n",
      "2.\n",
      "명사 (전기) 회로 (→integrated circuit, printed circuit, short circuit)\n",
      "3.\n",
      "명사 연맹전\n",
      "1\n",
      "미국식 [ ˈsɜːrkɪt ]\n",
      "영국식 [ ˈsɜːkɪt ]\n",
      "All\n",
      "21\n",
      "옥스퍼드 영한사전\n",
      "====================================================================================================\n",
      "\n",
      "appeal\n",
      "오스포드 중요어휘\n",
      "어휘등급\n",
      "1.\n",
      "명사 항소(抗訴), 상고(上告) (→court of appeal)\n",
      "2.\n",
      "명사 매력 (→sex appeal)\n",
      "3.\n",
      "동사 항소[상고]하다\n",
      "4.\n",
      "동사 관심[흥미]을 끌다, 매력적이다\n",
      "미국∙영국 [ əˈpiːl ]\n",
      "All\n",
      "21\n",
      "옥스퍼드 영한사전\n",
      "====================================================================================================\n",
      "\n",
      "boost\n",
      "어휘등급\n",
      "1.\n",
      "동사 신장시키다, 북돋우다\n",
      "2.\n",
      "동사 美 비격식 구식이 되어감 훔치다\n",
      "3.\n",
      "명사 격려, (신장시키는) 힘, 부양책\n",
      "4.\n",
      "명사 증가\n",
      "1\n",
      "미국∙영국 [ buːst ]\n",
      "All\n",
      "옥스퍼드 영한사전\n",
      "====================================================================================================\n",
      "\n",
      "restrict\n",
      "오스포드 중요어휘\n",
      "어휘등급\n",
      "1.\n",
      "동사 (크기·양·범위 등을) 제한[한정]하다\n",
      "2.\n",
      "동사 (자유로운 움직임을) 방해하다 (=impede)\n",
      "3.\n",
      "동사 (규칙·법으로) 제한[통제]하다\n",
      "1\n",
      "미국∙영국 [ rɪˈstrɪkt ]\n",
      "All\n",
      "옥스퍼드 영한사전\n",
      "====================================================================================================\n",
      "\n",
      "visibility\n",
      "1.\n",
      "명사 시정(視程), 시계(視界)\n",
      "2.\n",
      "명사 눈에 잘 보임, 가시성\n",
      "미국∙영국 [ ˌvɪzəˈbɪləti ]\n",
      "All\n",
      "3\n",
      "옥스퍼드 영한사전\n",
      "====================================================================================================\n",
      "\n",
      "otherwise\n",
      "오스포드 중요어휘\n",
      "어휘등급\n",
      "1.\n",
      "부사 (만약) 그렇지 않으면[않았다면]\n",
      "2.\n",
      "부사 그 외에는\n",
      "3.\n",
      "부사 (…와는) 다르게[다른 방법으로], 달리\n",
      "미국식 [ ˈʌðərwaɪz ]\n",
      "영국식 [ ˈʌðəwaɪz ]\n",
      "All\n",
      "22\n",
      "옥스퍼드 영한사전\n",
      "====================================================================================================\n",
      "\n",
      "discriminate\n",
      "어휘등급\n",
      "1.\n",
      "동사 식별[구별]하다 (=differentiate, distinguish)\n",
      "2.\n",
      "동사 차별하다\n",
      "미국∙영국 [ dɪˈskrɪmɪneɪt ]\n",
      "All\n",
      "23\n",
      "옥스퍼드 영한사전\n",
      "====================================================================================================\n",
      "\n",
      "enormous\n",
      "오스포드 중요어휘\n",
      "어휘등급\n",
      "형용사 막대한, 거대한 (=huge, immense)\n",
      "미국식 [ ɪˈnɔːrməs ]\n",
      "영국식 [ ɪˈnɔːməs ]\n",
      "All\n",
      "21\n",
      "옥스퍼드 영한사전\n",
      "====================================================================================================\n",
      "\n"
     ]
    }
   ],
   "source": [
    "# 모르는 단어 검색 \n",
    "\n",
    "path = 'C:/Users/crid2/driver/chromedriver.exe'\n",
    "driver = webdriver.Chrome(path)\n",
    "driver.get('https://en.dict.naver.com/#/main')\n",
    "\n",
    "mean_words = []\n",
    "\n",
    "for word in text_word :\n",
    "    \n",
    "    time.sleep(1)\n",
    "    search_input = driver.find_element(By.XPATH, '//*[@id=\"ac_input\"]')\n",
    "    search_input.send_keys(word)\n",
    "    search_input.send_keys(Keys.RETURN)\n",
    "    \n",
    "\n",
    "    ### 현재 url 다시 드라이브에 get 해서 다음으로 넘어갈수있게 함\n",
    "\n",
    "    driver.get(driver.current_url)\n",
    "    time.sleep(2)\n",
    "    search_output = driver.find_element(By.XPATH, '//*[@id=\"searchPage_entry\"]/div/div[1]')\n",
    "    mean_words.append(search_output.text)\n",
    "    \n",
    "\n",
    "    print(search_output.text)\n",
    "    print('='* 100)\n",
    "    print()\n",
    "\n",
    "    # 그다음 url 가져오고 다시 돌아가기\n",
    "    time.sleep(1)\n",
    "    driver.get('https://en.dict.naver.com/#/main')\n",
    "\n",
    "    "
   ]
  },
  {
   "cell_type": "code",
   "execution_count": null,
   "id": "d70665ce",
   "metadata": {},
   "outputs": [],
   "source": []
  },
  {
   "cell_type": "code",
   "execution_count": null,
   "id": "a402aba7",
   "metadata": {},
   "outputs": [],
   "source": []
  },
  {
   "cell_type": "code",
   "execution_count": null,
   "id": "853ce405",
   "metadata": {},
   "outputs": [],
   "source": []
  },
  {
   "cell_type": "code",
   "execution_count": null,
   "id": "36e8f818",
   "metadata": {},
   "outputs": [],
   "source": []
  },
  {
   "cell_type": "code",
   "execution_count": null,
   "id": "4e0cbc0c",
   "metadata": {},
   "outputs": [],
   "source": []
  },
  {
   "cell_type": "code",
   "execution_count": null,
   "id": "f6f760fa",
   "metadata": {},
   "outputs": [],
   "source": []
  }
 ],
 "metadata": {
  "kernelspec": {
   "display_name": "tensor01",
   "language": "python",
   "name": "tensor01"
  },
  "language_info": {
   "codemirror_mode": {
    "name": "ipython",
    "version": 3
   },
   "file_extension": ".py",
   "mimetype": "text/x-python",
   "name": "python",
   "nbconvert_exporter": "python",
   "pygments_lexer": "ipython3",
   "version": "3.8.0"
  },
  "varInspector": {
   "cols": {
    "lenName": 16,
    "lenType": 16,
    "lenVar": 40
   },
   "kernels_config": {
    "python": {
     "delete_cmd_postfix": "",
     "delete_cmd_prefix": "del ",
     "library": "var_list.py",
     "varRefreshCmd": "print(var_dic_list())"
    },
    "r": {
     "delete_cmd_postfix": ") ",
     "delete_cmd_prefix": "rm(",
     "library": "var_list.r",
     "varRefreshCmd": "cat(var_dic_list()) "
    }
   },
   "types_to_exclude": [
    "module",
    "function",
    "builtin_function_or_method",
    "instance",
    "_Feature"
   ],
   "window_display": false
  }
 },
 "nbformat": 4,
 "nbformat_minor": 5
}
